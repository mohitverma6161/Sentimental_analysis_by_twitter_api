{
 "cells": [
  {
   "cell_type": "code",
   "execution_count": 11,
   "metadata": {
    "collapsed": true
   },
   "outputs": [],
   "source": [
    "import tweepy\n",
    "from textblob import TextBlob\n",
    "from time import sleep"
   ]
  },
  {
   "cell_type": "code",
   "execution_count": 12,
   "metadata": {
    "collapsed": true
   },
   "outputs": [],
   "source": [
    "# Access Tokens\n",
    "consumer_key='4VOj0NOguPR87pUPUHOFNiYFa'\n",
    "consumer_secret='pA4zABN9nLI1cydHoprdTAWahalNzUZtVFvc5yj8EkWYr0v7cD'\n",
    "access_token='1166944490877153281-wukVXEL0N5Dy2SNHWbFNj0BvvQc8Tt'\n",
    "access_token_secret='odFbc9E2A2AVlPAnAf0uH9iUTFVM3bQyJXtvLdoIOcp6d'"
   ]
  },
  {
   "cell_type": "code",
   "execution_count": 7,
   "metadata": {},
   "outputs": [],
   "source": [
    "# Authorization\n",
    "auth = tweepy.OAuthHandler(consumer_key,consumer_secret)\n",
    "auth.set_access_token(access_token,access_token_secret)\n",
    "api = tweepy.API(auth)"
   ]
  },
  {
   "cell_type": "code",
   "execution_count": 14,
   "metadata": {},
   "outputs": [],
   "source": [
    "public_tweets = api.search(\"Narendra Modi\")"
   ]
  },
  {
   "cell_type": "code",
   "execution_count": 15,
   "metadata": {
    "scrolled": true
   },
   "outputs": [
    {
     "name": "stdout",
     "output_type": "stream",
     "text": [
      "RT @Joydas: These GDP Numbers and massive slowdown is worrying and scary. Worrying because we know nobody in Modi Govt has caliber to reviv…\n",
      "Sentiment(polarity=-0.25, subjectivity=1.0)\n",
      "RT @htTweets: PM @narendramodi to receive award in US for Swachh Bharat Abhiyaan\n",
      "\n",
      "https://t.co/iWxs4Dxnyo https://t.co/imNpDqLVW8\n",
      "Sentiment(polarity=0.0, subjectivity=0.0)\n",
      "RT @satyajeettambe: Who do you think can bring Indian economy back to track? \n",
      "\n",
      "•RT for Dr Manmohan Singh\n",
      "\n",
      "•Like for Narendra Modi https://t…\n",
      "Sentiment(polarity=0.0, subjectivity=0.0)\n",
      "RT @Joydas: These GDP Numbers and massive slowdown is worrying and scary. Worrying because we know nobody in Modi Govt has caliber to reviv…\n",
      "Sentiment(polarity=-0.25, subjectivity=1.0)\n",
      "Narendra Modi’s meditation cave is now the new tourist destination\n",
      "\n",
      "https://t.co/Mer9JUyUsq https://t.co/TCmhwsOa62\n",
      "Sentiment(polarity=0.13636363636363635, subjectivity=0.45454545454545453)\n",
      "Sri Narendra Modi style ganpatiji.\n",
      "Eco-friendly ganpatiji.\n",
      "Gir somnath Veraval. https://t.co/l7Yy85q9ye\n",
      "Sentiment(polarity=0.0, subjectivity=0.0)\n",
      "The Indian economy was flourishing during the UPA regime under the leadership of Dr. Manmohan Singh. \n",
      "\n",
      "The ill-thou… https://t.co/95itRrH3L8\n",
      "Sentiment(polarity=0.0, subjectivity=0.0)\n",
      "RT @Deepakkhatri812: Who do you think can bring Indian economy back to track? \n",
      "\n",
      "•RT for Dr Manmohan Singh\n",
      "\n",
      "•Like for Narendra Modi https://…\n",
      "Sentiment(polarity=0.0, subjectivity=0.0)\n",
      "RT @ndtv: \"Now everyone wants Gujarati food\": PM Modi praises home state's cuisine https://t.co/e8q4i9WRQg https://t.co/klqk1jMU9W\n",
      "Sentiment(polarity=0.2, subjectivity=0.1)\n",
      "PM Narendra Modi: मां श्रृंगार गौरी की तीज पर पूजा से वंचित महिलाओं ने पीएम मोदी-सीएम योगी की फोटो रख मांगी https://t.co/k44rMxxAeU\n",
      "Sentiment(polarity=0.0, subjectivity=0.0)\n",
      "RT @satyajeettambe: Who do you think can bring Indian economy back to track? \n",
      "\n",
      "•RT for Dr Manmohan Singh\n",
      "\n",
      "•Like for Narendra Modi https://t…\n",
      "Sentiment(polarity=0.0, subjectivity=0.0)\n",
      "RT @IchbinUjjaini: In 2015 Smriti Irani described Prime Minister Narendra Modi as a \"great economist\", who she said has given a positive di…\n",
      "Sentiment(polarity=0.5136363636363637, subjectivity=0.6477272727272727)\n",
      "RT @aajtak: प्रधानमंत्री नरेंद्र मोदी को मिलेगा एक और अंतरराष्ट्रीय सम्मान\n",
      "https://t.co/BLFqf9rr4g\n",
      "Sentiment(polarity=0.0, subjectivity=0.0)\n",
      "Prime Minister Narendra Modi can lead any person to believe that his promises will be fulfilled in the future.\n",
      "He f… https://t.co/ZfzASGI0Wa\n",
      "Sentiment(polarity=0.0, subjectivity=0.125)\n",
      "RT @satyajeettambe: Who do you think can bring Indian economy back to track? \n",
      "\n",
      "•RT for Dr Manmohan Singh\n",
      "\n",
      "•Like for Narendra Modi https://t…\n",
      "Sentiment(polarity=0.0, subjectivity=0.0)\n"
     ]
    }
   ],
   "source": [
    "for tweet in public_tweets:\n",
    "    print(tweet.text)\n",
    "    analysis = TextBlob(tweet.text)\n",
    "    print(analysis.sentiment)"
   ]
  },
  {
   "cell_type": "code",
   "execution_count": null,
   "metadata": {
    "collapsed": true
   },
   "outputs": [],
   "source": []
  }
 ],
 "metadata": {
  "kernelspec": {
   "display_name": "Python 3",
   "language": "python",
   "name": "python3"
  },
  "language_info": {
   "codemirror_mode": {
    "name": "ipython",
    "version": 3
   },
   "file_extension": ".py",
   "mimetype": "text/x-python",
   "name": "python",
   "nbconvert_exporter": "python",
   "pygments_lexer": "ipython3",
   "version": "3.6.1"
  }
 },
 "nbformat": 4,
 "nbformat_minor": 2
}
